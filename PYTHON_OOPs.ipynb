{
  "nbformat": 4,
  "nbformat_minor": 0,
  "metadata": {
    "colab": {
      "provenance": []
    },
    "kernelspec": {
      "name": "python3",
      "display_name": "Python 3"
    },
    "language_info": {
      "name": "python"
    }
  },
  "cells": [
    {
      "cell_type": "markdown",
      "source": [
        "^PYTHON OOPs"
      ],
      "metadata": {
        "id": "v827oAkDAihJ"
      }
    },
    {
      "cell_type": "markdown",
      "source": [
        "Question 1:- what is object oriented proramming (OOPs)?\n",
        "\n",
        "Answer:- OOPs is a progrmming paradigm based on the concept of \"objects\", which can contain data (in the form of attributes or fields) and code (in the form of methods or functions)."
      ],
      "metadata": {
        "id": "yvvmh7NgApx0"
      }
    },
    {
      "cell_type": "markdown",
      "source": [
        "Question 2:- what is a class in OOP?\n",
        "\n",
        "Answer:- A class in OOP is a blueprint or template for creating objects. It defines Attributes and Methods."
      ],
      "metadata": {
        "id": "3VOsocJ6BmPG"
      }
    },
    {
      "cell_type": "markdown",
      "source": [
        "Question 3:-What is an object in OOP?\n",
        "\n",
        "Answer:- An object in OOP is an instance of a class. It contains data and it has behaviors."
      ],
      "metadata": {
        "id": "Nso65fNDCGo4"
      }
    },
    {
      "cell_type": "markdown",
      "source": [
        "Qustion 4:- What is the difference betwee abstraction and encapsulation?\n",
        "\n",
        "Answer:- Abstraction is hiding complex implementation details from the user.\n",
        "Encapsulation is hiding internal data and controlling access to it.\n",
        "Abstraction focuses on what an object does. Encapsulation focuses on how an object protects its data.\n",
        "Purpose of Abstraction is to show only essential features.\n",
        "Purpose of Encapsulation is to protect data from unauthorized access"
      ],
      "metadata": {
        "id": "L8IjgdrGCsWB"
      }
    },
    {
      "cell_type": "markdown",
      "source": [
        "Question 5:- What are dunder methods in python?\n",
        "\n",
        "Answer:- Dunder methods in python also called magic methods or special methods are methods with double underscores at the start and end of their names, like __str__, __len__ etc."
      ],
      "metadata": {
        "id": "2ACniAWQEfaE"
      }
    },
    {
      "cell_type": "markdown",
      "source": [
        "Question 6:- Explain the concept of inheritance in OOP.\n",
        "\n",
        "Answer:- Inheritance in OOP is the concept where one class (child or subclass) inherits the Attributes (data) and methods(functions) of another class (parent or superclass)."
      ],
      "metadata": {
        "id": "08UCu3N_FdA_"
      }
    },
    {
      "cell_type": "markdown",
      "source": [
        "Question 7:- What is polymorphism in OOP?\n",
        "\n",
        "Answer:- Polymorphism in OOP means \"many forms\"- the ability of diferent classes to respond to the same method name in different ways."
      ],
      "metadata": {
        "id": "0HcyEL3OGcqF"
      }
    },
    {
      "cell_type": "markdown",
      "source": [
        "Question 8:- How is encapsulation achieved in Python?\n",
        "\n",
        "Answer:- Encapsulation in python is achieved by restricting access to internal attributes and methods of a class, and exposing only what is necessary to the outside world."
      ],
      "metadata": {
        "id": "o_dP1-AAHIgb"
      }
    },
    {
      "cell_type": "markdown",
      "source": [
        "Question 9:- What is a constructor in python?\n",
        "\n",
        "Answer:- A constructor in python is a special method used to initialize objects when they are created from a class."
      ],
      "metadata": {
        "id": "xWSiI_1EH_Vp"
      }
    },
    {
      "cell_type": "markdown",
      "source": [
        "Question 10:- what are class and static methods in python?\n",
        "\n",
        "Answer:- class methods and static methods in python are special types of methods that belong to the class rether than to instances (objects). class method works on the class, not just objects. static method is a utility function inside a class, not tied to object or class state."
      ],
      "metadata": {
        "id": "-DEHgNNWIqwh"
      }
    },
    {
      "cell_type": "markdown",
      "source": [
        "Question 11:- What is method overloading in python?\n",
        "\n",
        "Answer:- Method overloading in python refers to defining multiple versions of a method with the same name but different parameters. its goal is to allow a single method to behave differently based on the number or type of arguments passed."
      ],
      "metadata": {
        "id": "GUIt8SD-e5Nm"
      }
    },
    {
      "cell_type": "markdown",
      "source": [
        "Question 12:- What is method overriding in OOP?\n",
        "\n",
        "Answer:- Method overriding in OOP occurs when a child class provides a new implementation of a method that is already defined in its parent class. Its purpose is to customise or extend behavior in a subclass and to use the same method name with different behavior."
      ],
      "metadata": {
        "id": "vS5jgM2xf0_o"
      }
    },
    {
      "cell_type": "markdown",
      "source": [
        "Question 13:- What iss property decorator in python?\n",
        "\n",
        "Answer:- The @property deorator in python is used to turn a method into read-only attribute-like accessor- meaning you can access a method like a variable, without using ()."
      ],
      "metadata": {
        "id": "jF9tWDKRgivD"
      }
    },
    {
      "cell_type": "markdown",
      "source": [
        "Question 14:- Why is polymorphism is important in OOP?\n",
        "\n",
        "Answer:- Polymorphism is important in OOP because it allows objects of differt classes to be treated as if they are of the same calss, while still exhibiting their own unique behaviors."
      ],
      "metadata": {
        "id": "RxanZmUyhW25"
      }
    },
    {
      "cell_type": "markdown",
      "source": [
        "Question 15:- What is an abstract class in python ?\n",
        "\n",
        "Answer:- An abstract class in python is a class that cannot be initiated directly and is meant to serve as a base for other classes. It may contain abstract methods- methods that have no implementation and must be overridden in child classes."
      ],
      "metadata": {
        "id": "jZnlIm8EiC5J"
      }
    },
    {
      "cell_type": "markdown",
      "source": [
        "Question 16:- What are the advantages of OOP?\n",
        "\n",
        "Answer:- OOP offers structured and modular way to design software, making it easier to develop, maintain, and scale complex applications. It organises the code into classes making it logically seperated and easy to understand where each object represents a self-contained module."
      ],
      "metadata": {
        "id": "G3YiHFCZi68h"
      }
    },
    {
      "cell_type": "markdown",
      "source": [
        "Question 17:- What is the difference between a class variable and an instance variable?\n",
        "\n",
        "Answer:- both class variables and instance variables store data inside a class, but their scope and behavior are diferent.\n",
        "INSTANCE VARIABLE:- belongs to a specific object which is declared by using \"self.variable_name\". It is unique for each object where changes affect only that object.\n",
        "CLASS VARIABLE:- belongs to the class itself which is declared outside \"__init__\" but inside the class. it is shared across all objects where changing it from class object affects all objects unless it is overridden."
      ],
      "metadata": {
        "id": "lXdk6l-bkN2t"
      }
    },
    {
      "cell_type": "markdown",
      "source": [
        "Question 18:- What is multiple inheritance in python?\n",
        "\n",
        "Answer:- Multiple inheritance in python is a feature that allows a class to inherit from more than one parent class. This means a child class can access attributes and methods from multiple base calsses."
      ],
      "metadata": {
        "id": "YUkYR1SZl8vi"
      }
    },
    {
      "cell_type": "markdown",
      "source": [
        "Question 19:- Explain the purpose of \"__str__'and'__repr__\" methods in python.\n",
        "\n",
        "Answer:- Purpose of __str__ is to return a user-friendly string representation of an object. used by: print(obj) or str(obj).\n",
        "Purpose of __repr__ is to return a detailed unambiguos string used for debugging and logging. used by: repr(obj)."
      ],
      "metadata": {
        "id": "nB-eWVfEmtWO"
      }
    },
    {
      "cell_type": "markdown",
      "source": [
        "Question 20:- What is the purose of super() funtion in python?\n",
        "\n",
        "Answer:- The super() function in python is used to call methods from a parent(super) class without explicitly naming it. it access parent class methods, it is useful in inheritance and methods overriding, it avoids hard-coding parent class names and it supports multiple inheritance."
      ],
      "metadata": {
        "id": "ugEaNGjBtYKT"
      }
    },
    {
      "cell_type": "markdown",
      "source": [
        "Question 21:- what is the significance of __del__ method in python?\n",
        "\n",
        "Answer:- The __del__() method in python is a special (dunder) method called a destructor. It is automatically invoked when an object is about to be destroyed. it is used to perform clean up tasks, such as closing files or releasing resources."
      ],
      "metadata": {
        "id": "CIfku9_mufAK"
      }
    },
    {
      "cell_type": "markdown",
      "source": [
        "question 22:- what is the difference between @staticmethod and @classmethod in python?\n",
        "\n",
        "Answer:- In python, @staticmethod and @classmethod are decorators used to define methods that are not regular instance methods. They belong to the class but work differently."
      ],
      "metadata": {
        "id": "Fmg2UOolvgeE"
      }
    },
    {
      "cell_type": "markdown",
      "source": [
        "Question 23:- How does polymorphism work in python with inheritance?\n",
        "\n",
        "Answer:- polymorphism in python allows objects of different classes to be treated through a common interface, especially via inheritance.\n",
        "Polymorphism + inheritance = a child class can override a method of the parent class, and python will automatically call the correct version depending on the object type at runtime."
      ],
      "metadata": {
        "id": "beJb5mF-wW0w"
      }
    },
    {
      "cell_type": "markdown",
      "source": [
        "Question 24:- What is method chaining in python OOP?\n",
        "\n",
        "Answer:- Method chaining in python OOP is a techique where multiple methods are called on the same object in a single line, one after another using dot notation."
      ],
      "metadata": {
        "id": "my7RK60-xYDH"
      }
    },
    {
      "cell_type": "markdown",
      "source": [
        "Question 25:- what is the purpose of __call__ method in python?\n",
        "\n",
        "Answer:- The __call__ method in python allows an instance of a class to be \"called\" like a function. It makes an object callable."
      ],
      "metadata": {
        "id": "AcQ_X4thyGbM"
      }
    },
    {
      "cell_type": "markdown",
      "source": [
        "^PRACTICAL QUESTIONS"
      ],
      "metadata": {
        "id": "kMJxxJJHaf--"
      }
    },
    {
      "cell_type": "markdown",
      "source": [
        "Question 1:- create a parent class Animal with a method speak() that prints a generic message. Create a child calss dog that overrides the speak () method to speak \"bark!\"."
      ],
      "metadata": {
        "id": "vmmLggtpaoGS"
      }
    },
    {
      "cell_type": "code",
      "source": [
        "#parent class\n",
        "class Animal:\n",
        "    def speak(self):\n",
        "        print(\"the animal makes a sound.\")\n",
        "\n",
        "#child class that overrides the parent method\n",
        "class Dog(Animal):\n",
        "    def speak(self):\n",
        "        print(\"bark\")\n",
        "\n",
        "a = Animal()\n",
        "a.speak()\n",
        "\n",
        "d = Dog()\n",
        "d.speak()"
      ],
      "metadata": {
        "colab": {
          "base_uri": "https://localhost:8080/"
        },
        "id": "6D9KEAfPpxOK",
        "outputId": "b7be832e-bff3-45e7-f977-b50274d235f8"
      },
      "execution_count": null,
      "outputs": [
        {
          "output_type": "stream",
          "name": "stdout",
          "text": [
            "the animal makes a sound.\n",
            "bark\n"
          ]
        }
      ]
    },
    {
      "cell_type": "markdown",
      "source": [
        "Question 2:- write a program to create an abstract class shape wirh a method area(). Derive classes circle and rectangle from it and implement the area() method in both."
      ],
      "metadata": {
        "id": "wCmP-D9dIn5u"
      }
    },
    {
      "cell_type": "code",
      "source": [
        "from abc import ABC, abstractmethod\n",
        "import math\n",
        "#Abstract base class\n",
        "class ShapeArea(ABC):\n",
        "    def area(self):\n",
        "        pass\n",
        "#Derived class: Circle\n",
        "class Circle(ShapeArea):\n",
        "    def __init__(self, radius):\n",
        "        self.radius = radius\n",
        "    def area(self):\n",
        "        return math.pi * self.radius * self.radius\n",
        "#Derived class: Rectangle\n",
        "class Rectangle(ShapeArea):\n",
        "    def __init__(self, length, width):\n",
        "        self.length = length\n",
        "        self.width = width\n",
        "    def area(self):\n",
        "        return self.length * self.width\n",
        "# Create objects and display area\n",
        "circle = Circle(5)\n",
        "rectangle = Rectangle(4, 6)\n",
        "\n",
        "print(\"Area of Circle:\", circle.area())\n",
        "print(\"Area of Rectangle:\", rectangle.area())"
      ],
      "metadata": {
        "id": "NfdiyjADKNaA",
        "colab": {
          "base_uri": "https://localhost:8080/"
        },
        "outputId": "2925534e-588a-4b29-8b6b-3815422b561f"
      },
      "execution_count": null,
      "outputs": [
        {
          "output_type": "stream",
          "name": "stdout",
          "text": [
            "Area of Circle: 78.53981633974483\n",
            "Area of Rectangle: 24\n"
          ]
        }
      ]
    },
    {
      "cell_type": "markdown",
      "source": [
        "Question 3:- Implement a multi-level inheritance scenario where a class vehicle has an attribute type. derive a class car and further derive a class electric car that adds a battery attribute."
      ],
      "metadata": {
        "id": "9wyAOKUdKODk"
      }
    },
    {
      "cell_type": "code",
      "source": [
        "class Vehicle:\n",
        "    def __init__(self, vehicle_type):\n",
        "        self.type = vehicle_type\n",
        "\n",
        "    def display_type(self):\n",
        "        print(\"vehicle type:\", self.type)\n",
        "\n",
        "class Car(Vehicle):\n",
        "    def __init__(self, vehicle_type, brand):\n",
        "        super().__init__(vehicle_type)\n",
        "        self.brand = brand\n",
        "\n",
        "    def display_brand(self):\n",
        "        print(\"Car Brand:\", self.brand)\n",
        "\n",
        "class ElectricCar(Car):\n",
        "    def __init__(self, vehicle_type, brand, battery_capacity):\n",
        "        super().__init__(vehicle_type, brand)\n",
        "        self.battery = battery_capacity\n",
        "\n",
        "    def display_battery(self):\n",
        "        print(\"battery capacity:\", self.battery)\n",
        "# Creating an object of ElectricCar\n",
        "ecar = ElectricCar(\"Four Wheeler\", \"Mahindra\", \"90 kwh\")\n",
        "ecar.display_type()\n",
        "ecar.display_brand()\n",
        "ecar.display_battery()\n"
      ],
      "metadata": {
        "colab": {
          "base_uri": "https://localhost:8080/"
        },
        "id": "bPubZFjFK8H8",
        "outputId": "7225c4cd-de40-4e01-dda7-f105e756b823"
      },
      "execution_count": null,
      "outputs": [
        {
          "output_type": "stream",
          "name": "stdout",
          "text": [
            "vehicle type: Four Wheeler\n",
            "Car Brand: Mahindra\n",
            "battery capacity: 90 kwh\n"
          ]
        }
      ]
    },
    {
      "cell_type": "markdown",
      "source": [
        "Question 4:- Demonstrate polymorphism by creating a base class bird with a method fly(). create two derived classes sparrow and penguin that override the fly() method."
      ],
      "metadata": {
        "id": "WVQEhB3RRhcQ"
      }
    },
    {
      "cell_type": "code",
      "source": [
        "#Base class\n",
        "class Bird:\n",
        "    def fly(self):\n",
        "        print(\"Birds can fly!\")\n",
        "\n",
        "#Deried class 1\n",
        "class Sparrow(Bird):\n",
        "    def Fly(self):\n",
        "        print(\"Sparrow flies high in the sky.\")\n",
        "#Derived class 2\n",
        "class Penguin(Bird):\n",
        "    def fly(self):\n",
        "        print(\"Penguins cannot fly, they swim.\")\n",
        "#Functions to demonstrate polymorphism\n",
        "def bird_flight(bird):\n",
        "    bird.fly()\n",
        "\n",
        "#creating objects of derived classes\n",
        "sparrow = Sparrow()\n",
        "penguin = Penguin()\n",
        "#demonstrate polymorphism\n",
        "bird_flight(sparrow)\n",
        "bird_flight(penguin)"
      ],
      "metadata": {
        "colab": {
          "base_uri": "https://localhost:8080/"
        },
        "id": "wrLJglxVSgDZ",
        "outputId": "f0181fab-63ab-491d-a6d7-4f742c884d38"
      },
      "execution_count": null,
      "outputs": [
        {
          "output_type": "stream",
          "name": "stdout",
          "text": [
            "Birds can fly!\n",
            "Penguins cannot fly, they swim.\n"
          ]
        }
      ]
    },
    {
      "cell_type": "markdown",
      "source": [
        "Question 5:- Write a program to demonstrate encapsulation by creating a class Bankaccount with private attributes balance and methods to deposit, withdraw, and check balance."
      ],
      "metadata": {
        "id": "3OGug3eUXmf3"
      }
    },
    {
      "cell_type": "code",
      "source": [
        "class BankAccount:\n",
        "    def __init__(self):\n",
        "        self.__balance = 0\n",
        "    def deposit(self, amount):\n",
        "        self.__balance += amount\n",
        "    def withdraw(self, amount):\n",
        "        if amount <= self.__balance:\n",
        "            self.__balance -= amount\n",
        "        else:\n",
        "            print(\"Not enough balance!\")\n",
        "    def check_balance(self):\n",
        "        print(\"Balance:\", self.__balance)\n",
        "account = BankAccount()\n",
        "account.deposit(1000)\n",
        "account.withdraw(300)\n",
        "account.check_balance()"
      ],
      "metadata": {
        "colab": {
          "base_uri": "https://localhost:8080/"
        },
        "id": "qiD_2DFtYXR8",
        "outputId": "0538f8bf-b933-42f0-92ed-7798ddab6860"
      },
      "execution_count": null,
      "outputs": [
        {
          "output_type": "stream",
          "name": "stdout",
          "text": [
            "Balance: 700\n"
          ]
        }
      ]
    },
    {
      "cell_type": "markdown",
      "source": [
        "Question 6:- Demonstrate runtime polymorphism using a method play() in a base class instrument. Derive classes guitar and piano that implement their own version of play()."
      ],
      "metadata": {
        "id": "WJVGarHiKMii"
      }
    },
    {
      "cell_type": "code",
      "source": [
        "# Base class\n",
        "class Instrument:\n",
        "    def play(self):\n",
        "        print(\"Playing an instrument\")\n",
        "\n",
        "# Derived class 1\n",
        "class Guitar(Instrument):\n",
        "    def play(self):\n",
        "        print(\"Playing the guitar\")\n",
        "\n",
        "# Derived class 2\n",
        "class Piano(Instrument):\n",
        "    def play(self):\n",
        "        print(\"Playing the piano\")\n",
        "\n",
        "# Function to demonstrate runtime polymorphism\n",
        "def perform(instrument):\n",
        "    instrument.play()\n",
        "\n",
        "# Objects of derived classes\n",
        "guitar = Guitar()\n",
        "piano = Piano()\n",
        "\n",
        "# Calling the perform function with different objects\n",
        "perform(guitar)\n",
        "perform(piano)"
      ],
      "metadata": {
        "colab": {
          "base_uri": "https://localhost:8080/"
        },
        "id": "9v4HSES8GYKH",
        "outputId": "60743f74-44ca-4350-e0b5-ff2d1861fb51"
      },
      "execution_count": null,
      "outputs": [
        {
          "output_type": "stream",
          "name": "stdout",
          "text": [
            "Playing the guitar\n",
            "Playing the piano\n"
          ]
        }
      ]
    },
    {
      "cell_type": "markdown",
      "source": [
        "Question 7:- Create a class Mathoperations with a class method add_numbers() to add two numbers and and a static method substrat_numbers() to substract two numbers."
      ],
      "metadata": {
        "id": "vAiRxjfqHk3h"
      }
    },
    {
      "cell_type": "code",
      "source": [
        "class MathOperations:\n",
        "    # Class Method\n",
        "    def add_numbers(a, b):\n",
        "        return a + b\n",
        "\n",
        "    # Static Method\n",
        "    def substract_numbers(a, b):\n",
        "        return a - b\n",
        "#testing the methods\n",
        "#using class method to add\n",
        "sum_result = MathOperations.add_numbers(10, 5)\n",
        "#using static method to substract\n",
        "diff_result = MathOperations.substract_numbers(10, 5)\n",
        "\n",
        "print(\"Sum:\", sum_result)\n",
        "print(\"Difference:\", diff_result)"
      ],
      "metadata": {
        "colab": {
          "base_uri": "https://localhost:8080/"
        },
        "id": "9ptXpoPBKm4k",
        "outputId": "80617632-df28-4e87-9651-94e9c5b254fd"
      },
      "execution_count": null,
      "outputs": [
        {
          "output_type": "stream",
          "name": "stdout",
          "text": [
            "Sum: 15\n",
            "Difference: 5\n"
          ]
        }
      ]
    },
    {
      "cell_type": "markdown",
      "source": [
        "Question 8:- Implement a class person with a class method to count the total number of person created."
      ],
      "metadata": {
        "id": "KQ6LbUFxWXx6"
      }
    },
    {
      "cell_type": "code",
      "source": [
        "class Person:\n",
        "    # Class variable to store total count of persons\n",
        "    total_persons = 0\n",
        "\n",
        "    def __init__(self, name):\n",
        "        self.name = name\n",
        "        # Increment count whenever a new object is created\n",
        "        Person.total_persons += 1\n",
        "\n",
        "    # Class method to get total number of persons created\n",
        "    @classmethod\n",
        "    def get_total_persons(cls):\n",
        "        return cls.total_persons\n",
        "\n",
        "# Creating instances of Person\n",
        "p1 = Person(\"Alice\")\n",
        "p2 = Person(\"Bob\")\n",
        "p3 = Person(\"Charlie\")\n",
        "\n",
        "# Display the total number of persons created\n",
        "print(\"Total number of persons created:\", Person.get_total_persons())"
      ],
      "metadata": {
        "colab": {
          "base_uri": "https://localhost:8080/"
        },
        "id": "lFRs7eWdhcIr",
        "outputId": "f2ac0dac-8550-46ca-bb07-a443c55d5514"
      },
      "execution_count": null,
      "outputs": [
        {
          "output_type": "stream",
          "name": "stdout",
          "text": [
            "Total number of persons created: 3\n"
          ]
        }
      ]
    },
    {
      "cell_type": "markdown",
      "source": [
        "Question 9:- Write a class fraction with attribute numerator and denominator. Override the str method to display the fracton as \"numerator/denominator\"."
      ],
      "metadata": {
        "id": "Ae75vOCTotv2"
      }
    },
    {
      "cell_type": "code",
      "source": [
        "class Fraction:\n",
        "  def __init__(self, numerator, denominator):\n",
        "      self.numerator = numerator\n",
        "      self.denominator = denominator\n",
        "  def __str__(self):\n",
        "      return f\"{self.numerator}/{self.denominator}\"\n",
        "f = Fraction(3, 4)\n",
        "print(f)\n"
      ],
      "metadata": {
        "colab": {
          "base_uri": "https://localhost:8080/"
        },
        "id": "zx6H5ZxXpQ8T",
        "outputId": "32d52a39-abe7-4f93-b580-1f78ca2521ea"
      },
      "execution_count": null,
      "outputs": [
        {
          "output_type": "stream",
          "name": "stdout",
          "text": [
            "3/4\n"
          ]
        }
      ]
    },
    {
      "cell_type": "markdown",
      "source": [
        "Question 10:- demonstrate operator overloading by creating a class vector and overriding the add method two add two vectors."
      ],
      "metadata": {
        "id": "xW3ChuFCuIey"
      }
    },
    {
      "cell_type": "code",
      "source": [
        "class Vector:\n",
        "    def __init__(self, x, y):\n",
        "        self.x = x\n",
        "        self.y = y\n",
        "    def __add__(self, other):\n",
        "        return Vector(self.x + other.x, self.y + other.y)\n",
        "    def __str__(self):\n",
        "        return f\"{self.x}, {self.y}\"\n",
        "v1 = Vector(2, 3)\n",
        "v2 = Vector(4, 1)\n",
        "v3 = v1 + v2\n",
        "print(\"vector 1:\", v1)\n",
        "print(\"Vector 2:\", v2)\n",
        "print(\"Vector 1 + vector 2:\", v3)"
      ],
      "metadata": {
        "colab": {
          "base_uri": "https://localhost:8080/"
        },
        "id": "rKqUk7GzuoTJ",
        "outputId": "c8a893eb-964b-4e2b-cb6d-13a531811e40"
      },
      "execution_count": null,
      "outputs": [
        {
          "output_type": "stream",
          "name": "stdout",
          "text": [
            "vector 1: 2, 3\n",
            "Vector 2: 4, 1\n",
            "Vector 1 + vector 2: 6, 4\n"
          ]
        }
      ]
    },
    {
      "cell_type": "markdown",
      "source": [
        "Question 11:- create a class person with attributes name and age. Add a method greet() \"hello, my name is {name} and i am {age} years old.\""
      ],
      "metadata": {
        "id": "OTb5xYtnxCfC"
      }
    },
    {
      "cell_type": "code",
      "source": [
        "class Person:\n",
        "    def __init__(self, name, age):\n",
        "        self.name = name\n",
        "        self.age = age\n",
        "    def greet(self):\n",
        "        print(f\"Hello, my name is {self.name} and I am {self.age} years old.\")\n",
        "p = Person(\"Alex\", 30)\n",
        "p.greet()\n",
        "\n"
      ],
      "metadata": {
        "colab": {
          "base_uri": "https://localhost:8080/"
        },
        "id": "riDJDyvTxx7B",
        "outputId": "a69ba65b-1131-4936-a42b-170d72c43300"
      },
      "execution_count": null,
      "outputs": [
        {
          "output_type": "stream",
          "name": "stdout",
          "text": [
            "Hello, my name is Alex and I am 30 years old.\n"
          ]
        }
      ]
    },
    {
      "cell_type": "markdown",
      "source": [
        "Question 12:- Implement a class student with attributes name and grades. create a method average_grade() to compute the average of grades."
      ],
      "metadata": {
        "id": "PPxgtoVPzoLK"
      }
    },
    {
      "cell_type": "code",
      "source": [
        "class Student:\n",
        "    def __init__(self, name, grades):\n",
        "        self.name = name\n",
        "        self.grades = grades\n",
        "    def AverageGrade(self):\n",
        "        if len(self.grades) == 0:\n",
        "            return 0\n",
        "        else:\n",
        "            return sum(self.grades) / len(self.grades)\n",
        "s = Student(\"Riyad\", [80, 90, 60, 93])\n",
        "print(\"Name:\", s.name)\n",
        "print(\"Average Grade:\", s.AverageGrade())"
      ],
      "metadata": {
        "colab": {
          "base_uri": "https://localhost:8080/"
        },
        "id": "NCDgdaPy0KG7",
        "outputId": "f87fc848-27c4-4e31-b1a8-0633107e68aa"
      },
      "execution_count": null,
      "outputs": [
        {
          "output_type": "stream",
          "name": "stdout",
          "text": [
            "Name: Riyad\n",
            "Average Grade: 80.75\n"
          ]
        }
      ]
    },
    {
      "cell_type": "markdown",
      "source": [
        "Question 13:- Create a class rectangle with methods set_dimensions() to set the dimensions and area() to calculate the area."
      ],
      "metadata": {
        "id": "xwpcPeP05nI0"
      }
    },
    {
      "cell_type": "code",
      "source": [
        "class Rectangle:\n",
        "    def __init__(self):\n",
        "        self.length = 0\n",
        "        self.width = 0\n",
        "    def setDimensions(self, length, width):\n",
        "        self.length = length\n",
        "        self.width = width\n",
        "    def area(self):\n",
        "        return self.length * self.width\n",
        "rect = Rectangle()\n",
        "rect.setDimensions(5, 10)\n",
        "print(\"Area of rectangle:\", rect.area())"
      ],
      "metadata": {
        "colab": {
          "base_uri": "https://localhost:8080/"
        },
        "id": "AeQYiLEb81rW",
        "outputId": "fab3eeb2-0005-4ba9-ebaf-dccbab49f8f9"
      },
      "execution_count": null,
      "outputs": [
        {
          "output_type": "stream",
          "name": "stdout",
          "text": [
            "Area of rectangle: 50\n"
          ]
        }
      ]
    },
    {
      "cell_type": "markdown",
      "source": [
        "Question 14:- Create a class employee with a method calculate_salary() that computes the salary based on the hours worked and hourly rate. Create a derived class manager that adds a bonus to the salary."
      ],
      "metadata": {
        "id": "gfdSBbYR_qP5"
      }
    },
    {
      "cell_type": "code",
      "source": [
        "class Employee:\n",
        "    def __init__(self, hours_worked, hourly_rate):\n",
        "        self.hours_worked = hours_worked\n",
        "        self.hourly_rate = hourly_rate\n",
        "\n",
        "    def calculate_salary(self):\n",
        "        return self.hours_worked * self.hourly_rate\n",
        "\n",
        "class Manager(Employee):\n",
        "    def __init__(self, hours_worked, hourly_rate, bonus):\n",
        "        super().__init__(hours_worked, hourly_rate)\n",
        "        self.bonus = bonus\n",
        "\n",
        "    def calculate_salary(self):\n",
        "        base_salary = super().calculate_salary()\n",
        "        return base_salary + self.bonus\n",
        "\n",
        "\n",
        "emp = Employee(40, 100)\n",
        "print(\"Employee Salary:\", emp.calculate_salary())\n",
        "\n",
        "mgr = Manager(40, 100, 5000)\n",
        "print(\"Manager Salary:\", mgr.calculate_salary())"
      ],
      "metadata": {
        "colab": {
          "base_uri": "https://localhost:8080/"
        },
        "id": "M-P1Q53hEtns",
        "outputId": "a2a02831-94a4-477b-b66c-ff6baf8c7150"
      },
      "execution_count": 7,
      "outputs": [
        {
          "output_type": "stream",
          "name": "stdout",
          "text": [
            "Employee Salary: 4000\n",
            "Manager Salary: 9000\n"
          ]
        }
      ]
    },
    {
      "cell_type": "markdown",
      "source": [
        "Question 15:- Create a class product with attributes name, price, and quantity. implement a method total_price() that calculates the total price of the product."
      ],
      "metadata": {
        "id": "PANj1zQAFT45"
      }
    },
    {
      "cell_type": "code",
      "source": [
        "class Product:\n",
        "    def __init__(self, name, price, quantity):\n",
        "        self.name = name\n",
        "        self.price = price\n",
        "        self.quantity = quantity\n",
        "\n",
        "    def total_price(self):\n",
        "        return self.price * self.quantity\n",
        "\n",
        "item = Product(\"Laptop\", 45000, 2)\n",
        "print(\"Product Name:\", item.name)\n",
        "print(\"Total Price:\", item.total_price())"
      ],
      "metadata": {
        "colab": {
          "base_uri": "https://localhost:8080/"
        },
        "id": "hboEvtN7Gten",
        "outputId": "cfbf0583-281d-4d3a-d2eb-acf08e418ec8"
      },
      "execution_count": 10,
      "outputs": [
        {
          "output_type": "stream",
          "name": "stdout",
          "text": [
            "Product Name: Laptop\n",
            "Total Price: 90000\n"
          ]
        }
      ]
    },
    {
      "cell_type": "markdown",
      "source": [
        "Question 16: create a class animal with an abstract method sound(). create two derived classes Cow and Sheep that implement the sound() method."
      ],
      "metadata": {
        "id": "ACXj0sd9HHz4"
      }
    },
    {
      "cell_type": "code",
      "source": [
        "from abc import ABC, abstractmethod\n",
        "class Animal(ABC):\n",
        "    @abstractmethod\n",
        "    def sound(self):\n",
        "        pass\n",
        "class Cow(Animal):\n",
        "    def sound(self):\n",
        "        return \"Moo\"\n",
        "class Sheep(Animal):\n",
        "    def sound(self):\n",
        "        return \"Baa\"\n",
        "cow = Cow()\n",
        "sheep = Sheep()\n",
        "print(\"Cow Sound:\", cow.sound())\n",
        "print(\"Sheep Sound:\", sheep.sound())"
      ],
      "metadata": {
        "colab": {
          "base_uri": "https://localhost:8080/"
        },
        "id": "ktZpzQFiIwLM",
        "outputId": "1fa86210-0d1a-4e9e-a16b-d90dd7e91032"
      },
      "execution_count": 11,
      "outputs": [
        {
          "output_type": "stream",
          "name": "stdout",
          "text": [
            "Cow Sound: Moo\n",
            "Sheep Sound: Baa\n"
          ]
        }
      ]
    },
    {
      "cell_type": "markdown",
      "source": [
        "Question 17:- create a class book with attributes title, author, and year_published. Add a method get_book_info() that returns a formatted string with the book's details."
      ],
      "metadata": {
        "id": "KizqP1kJJGYq"
      }
    },
    {
      "cell_type": "code",
      "source": [
        "class Book:\n",
        "    def __init__(self, title, author, year_published):\n",
        "        self.title = title\n",
        "        self.author = author\n",
        "        self.year_published = year_published\n",
        "\n",
        "    def getBookInfo(self):\n",
        "        return f\"Title: {self.title}, Author: {self.author}, Year Published: {self.year_published}\"\n",
        "book = Book(\"The 3rd Alternative\", \"Stephen Covey\", 2011)\n",
        "print(book.getBookInfo())"
      ],
      "metadata": {
        "colab": {
          "base_uri": "https://localhost:8080/"
        },
        "id": "HrnM-S0gMYnO",
        "outputId": "a5d62e8d-35d0-4b21-e942-59934e9e8d43"
      },
      "execution_count": 15,
      "outputs": [
        {
          "output_type": "stream",
          "name": "stdout",
          "text": [
            "Title: The 3rd Alternative, Author: Stephen Covey, Year Published: 2011\n"
          ]
        }
      ]
    },
    {
      "cell_type": "markdown",
      "source": [
        "Question 18:-create a class house with attributes address and price. create a derived class mansion that adds an attribute number_of_rooms."
      ],
      "metadata": {
        "id": "8zuAy7BtMxza"
      }
    },
    {
      "cell_type": "code",
      "source": [
        "class House:\n",
        "    def __init__(self, address, price):\n",
        "        self.address = address\n",
        "        self.price = price\n",
        "\n",
        "    def display_info(self):\n",
        "        return f\"Address: {self.address}, Price: ₹{self.price}\"\n",
        "class Mansion(House):\n",
        "    def __init__(self, address, price, number_of_rooms):\n",
        "        super().__init__(address, price)\n",
        "        self.number_of_rooms = number_of_rooms\n",
        "\n",
        "    def display_info(self):\n",
        "        base_info = super().display_info()\n",
        "        return f\"{base_info}, Number of Rooms: {self.number_of_rooms}\"\n",
        "h1 = House(\"123 Green Street\", 5000000)\n",
        "print(h1.display_info())\n",
        "m1 = Mansion(\"456 Royal Avenue\", 25000000, 12)\n",
        "print(m1.display_info())"
      ],
      "metadata": {
        "colab": {
          "base_uri": "https://localhost:8080/"
        },
        "id": "pt0vH5lJNJNn",
        "outputId": "ac345df3-d254-472a-86aa-fcd7e7475424"
      },
      "execution_count": 17,
      "outputs": [
        {
          "output_type": "stream",
          "name": "stdout",
          "text": [
            "Address: 123 Green Street, Price: ₹5000000\n",
            "Address: 456 Royal Avenue, Price: ₹25000000, Number of Rooms: 12\n"
          ]
        }
      ]
    }
  ]
}